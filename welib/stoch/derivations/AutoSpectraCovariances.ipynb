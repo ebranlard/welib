{
 "cells": [
  {
   "cell_type": "markdown",
   "metadata": {},
   "source": [
    "Misc derivations of frame3d FEM elements and vefirication that results are consistent with welib.FEM.frame3d"
   ]
  },
  {
   "cell_type": "code",
   "execution_count": null,
   "metadata": {},
   "outputs": [],
   "source": [
    "# Sympy\n",
    "import sympy as sp\n",
    "from sympy import symbols, Symbol, simplify, Function, expand_trig\n",
    "from sympy import cos, sin\n",
    "from sympy import integrate\n",
    "from sympy import python, latex\n",
    "from sympy import Matrix\n",
    "from sympy import DiracDelta\n",
    "from sympy import I, exp, pi, oo\n",
    "from sympy import laplace_transform, inverse_laplace_transform\n",
    "from sympy import fourier_transform, inverse_fourier_transform\n",
    "from sympy.physics.vector import init_vprinting, vlatex\n",
    "init_vprinting(use_latex='mathjax', pretty_print=False)\n",
    "from IPython.core.interactiveshell import InteractiveShell\n",
    "InteractiveShell.ast_node_interactivity = \"all\"\n",
    "import matplotlib.pyplot as plt\n",
    "import numpy as np\n",
    "%load_ext autoreload\n",
    "%autoreload 2\n",
    "%matplotlib inline\n",
    "# --- local packages\n",
    "# --- Main variables\n",
    "tau, omega = symbols('tau, omega', real=True, positive=True, imaginary=False)\n",
    "tau.assumptions0"
   ]
  },
  {
   "cell_type": "code",
   "execution_count": null,
   "metadata": {},
   "outputs": [],
   "source": [
    "# --- Helper functions\n",
    "def KXXint(SX,limInf=0):\n",
    "    return integrate( SX * cos(omega * tau) , (omega, limInf, oo)  ) \n",
    "\n",
    "def KXXintComplex(SXX):\n",
    "    return integrate( SXX * exp( I * omega * tau) , (omega, -oo, oo)  ) \n",
    "\n",
    "def SXint(KXX):\n",
    "    return  integrate(2/pi * KXX * cos(omega * tau) , (tau, 0, oo)  ) \n",
    "\n",
    "def SXintComplex(KXX):\n",
    "    # NOTE: return SX not SXX!\n",
    "    return  integrate(1/(pi) * KXX * exp(-I * omega* tau) , (tau, -oo, oo)  ) "
   ]
  },
  {
   "cell_type": "markdown",
   "metadata": {},
   "source": [
    "## Constant autocovariance"
   ]
  },
  {
   "cell_type": "code",
   "execution_count": null,
   "metadata": {},
   "outputs": [],
   "source": [
    "tau, omega = symbols('tau, omega', imaginary=False,  real=True)  # NOTE: positive=True, makes DiracDelta fail\n",
    "sigma = symbols('sigma', real=True, positive=True, imaginary=False)\n",
    "KXX= sigma**2 \n",
    "SX= 2* sigma**2 * DiracDelta(omega)  # SX=2SXX\n",
    "print('Theory:')\n",
    "KXX\n",
    "SX\n",
    "print('Integration:')\n",
    "KXX_ = KXXint(SX)\n",
    "KXX_\n",
    "SX_ =  SXint(KXX) # Faiul to retrieve Dirac\n",
    "#SX2_ = SXintComplex(KXX)\n",
    "#SX2_.simplify()\n",
    "SX_.simplify()\n"
   ]
  },
  {
   "cell_type": "code",
   "execution_count": null,
   "metadata": {},
   "outputs": [],
   "source": [
    "sp.Integral(DiracDelta(omega), (omega,-oo, oo))"
   ]
  },
  {
   "cell_type": "markdown",
   "metadata": {},
   "source": [
    "# Constant spectrum (White noise)"
   ]
  },
  {
   "cell_type": "code",
   "execution_count": null,
   "metadata": {},
   "outputs": [],
   "source": [
    "tau, omega = symbols('tau, omega', imaginary=False,  real=True)  # NOTE: positive=True, makes DiracDelta fail\n",
    "S0 = symbols('S_0', real=True, positive=True, imaginary=False)\n",
    "KXX= 2 * pi*S0 * DiracDelta(tau)\n",
    "SX= 2*S0    # SX=2SXX\n",
    "print('Theory:')\n",
    "KXX\n",
    "SX\n",
    "print('Integration:')\n",
    "KXX_ = KXXint(SX)\n",
    "KXX_\n",
    "SX_ =  SXint(KXX) # Faiul to retrieve Dirac\n",
    "#SX2_ = SXintComplex(KXX)\n",
    "#SX2_.simplify()\n",
    "SX_.simplify()\n"
   ]
  },
  {
   "cell_type": "markdown",
   "metadata": {},
   "source": [
    "# Exponential Spectrum"
   ]
  },
  {
   "cell_type": "code",
   "execution_count": null,
   "metadata": {},
   "outputs": [],
   "source": [
    "tau, omega = symbols('tau, omega', imaginary=False,  real=True, positive=True)\n",
    "sigma, lambd = symbols('sigma, lambda', real=True, positive=True, imaginary=False)\n",
    "#sigma.assumptions0\n",
    "SX  = sigma**2 * lambd * exp(- lambd * omega)\n",
    "KXX = sigma**2 /( 1 + tau**2/lambd**2)\n",
    "\n",
    "print('Theory:')\n",
    "SX\n",
    "KXX\n",
    "print('Integration:')\n",
    "KXX_ = KXXint(SX)\n",
    "SX_ =  SXint(KXX)\n",
    "SX2_ = SXintComplex(KXX)\n",
    "SX2_.simplify()\n",
    "SX_.simplify()\n",
    "KXX_\n"
   ]
  },
  {
   "cell_type": "code",
   "execution_count": null,
   "metadata": {},
   "outputs": [],
   "source": [
    "integrate(SX, (omega, 0, oo))"
   ]
  },
  {
   "cell_type": "markdown",
   "metadata": {},
   "source": [
    "# Harmonic process"
   ]
  },
  {
   "cell_type": "code",
   "execution_count": null,
   "metadata": {},
   "outputs": [],
   "source": [
    "sigma, omega0 = symbols('sigma, omega_0', real=True, positive=True, imaginary=False)\n",
    "#sigma.assumptions0\n",
    "KXX = sigma**2 * cos(omega0*tau)\n",
    "SX  = sigma**2 * (DiracDelta(omega-omega0))\n",
    "\n",
    "print('Theory:')\n",
    "KXX\n",
    "SX\n",
    "print('Integration:')\n",
    "KXX_ = KXXint(SX)   # No problem integrating the Dirac\n",
    "KXX_\n",
    "SX_ =  SXint(KXX) # Does not converge, needs to be handled analytically\n",
    "SX2_ = SXintComplex(KXX) # Does not converge\n",
    "SX2_.simplify()\n",
    "SX_.simplify()\n"
   ]
  },
  {
   "cell_type": "markdown",
   "metadata": {},
   "source": [
    "# Band-limited white noise"
   ]
  },
  {
   "cell_type": "code",
   "execution_count": null,
   "metadata": {},
   "outputs": [],
   "source": [
    "sigma, B, omega0 = symbols('sigma, B, omega_0', real=True, positive=True, imaginary=False)\n",
    "KXX = sigma**2/(B*tau) * (sin((omega0+B/2)*tau ) - sin((omega0-B/2)*tau))\n",
    "SX1 = sp.Piecewise( ( sigma**2/B , (omega>omega0-B/2) & (omega<omega0+B/2)   ), ( 0, True)  )\n",
    "SX2 = (sigma**2/B * (sp.Heaviside(omega-(omega0-B/2) ) - sp.Heaviside(omega-(omega0+B/2)) )).rewrite(sp.Piecewise)\n",
    "print('Theory:')\n",
    "SX1\n",
    "SX2\n",
    "KXX"
   ]
  },
  {
   "cell_type": "code",
   "execution_count": null,
   "metadata": {},
   "outputs": [],
   "source": [
    "sp.Integral(SX1, (omega, -B/2, oo)).doit().simplify()\n",
    "sp.Integral(SX2, (omega, -B/2, oo)).rewrite(sp.Piecewise).doit().simplify()"
   ]
  },
  {
   "cell_type": "code",
   "execution_count": null,
   "metadata": {},
   "outputs": [],
   "source": [
    "print('Integration to get KXX:')\n",
    "KXX_ = KXXint(SX1, limInf=-B/2)\n",
    "KXX_\n",
    "KXX_.simplify()"
   ]
  },
  {
   "cell_type": "code",
   "execution_count": null,
   "metadata": {},
   "outputs": [],
   "source": [
    "print('Integration to get SX:')\n",
    "#SX_ =  SXint(KXX)  # Does not work\n",
    "#SX2_ = SXintComplex(KXX)  # gives a result but useless\n",
    "#SX2_.simplify()\n",
    "#SX_.simplify()"
   ]
  },
  {
   "cell_type": "code",
   "execution_count": null,
   "metadata": {},
   "outputs": [],
   "source": []
  },
  {
   "cell_type": "markdown",
   "metadata": {},
   "source": [
    "# Rational auto-spectrum"
   ]
  },
  {
   "cell_type": "code",
   "execution_count": null,
   "metadata": {},
   "outputs": [],
   "source": [
    "tau, omega = symbols('tau, omega', imaginary=False)  # NOTE: positive=True, makes DiracDelta fail\n",
    "omega0, a = symbols('omega_0, a',  positive=True, imaginary=False)\n",
    "zeta = symbols('zeta',  positive=True, imaginary=False)\n",
    "k = symbols('k',  positive=True, imaginary=False)\n",
    "KXX= exp(-a*abs(tau) ) * cos(omega0*tau)\n",
    "KXX= pi* S0 / (2*zeta*omega0**3)* exp(-zeta*omega0*abs(tau) ) * ( cos(omega0*k *tau) + zeta/k * sin(omega0*k *tau))\n",
    "\n",
    "SXX = S0 /( ( (I*omega)**2 + 2*zeta* omega0 *omega *I + omega0**2   ) *( (-I*omega)**2 - 2*zeta* omega0 *omega *I + omega0**2   ) )\n",
    "SX=2*SXX\n",
    "\n",
    "print('Theory:')\n",
    "KXX\n",
    "SX\n",
    "SXX\n",
    "SXX=SXX.simplify()\n",
    "SX = SX.simplify()\n",
    "SX\n",
    "SXX"
   ]
  },
  {
   "cell_type": "code",
   "execution_count": null,
   "metadata": {},
   "outputs": [],
   "source": [
    "print('Integration of SX:')\n",
    "#KXX_ = KXXint(SX)\n",
    "KXX_ = KXXintComplex(SX)\n",
    "KXX_"
   ]
  },
  {
   "cell_type": "code",
   "execution_count": null,
   "metadata": {},
   "outputs": [],
   "source": [
    "print('Integration of KXX:')\n",
    "#SX_ =  SXint(KXX) \n",
    "#SX_.simplify()\n",
    "#SX2_ = SXintComplex(KXX)\n",
    "SX2_ = integrate(1/(pi) * KXX * exp(-I * omega* tau) , (tau, -oo, oo)  , conds='none') \n",
    "SX2_ = SX2_.simplify()\n",
    "MySubs=[(k**2, 1-zeta**2)]\n",
    "SX2_.subs(MySubs).simplify()"
   ]
  },
  {
   "cell_type": "code",
   "execution_count": null,
   "metadata": {},
   "outputs": [],
   "source": [
    "\n",
    "SX2_.subs(MySubs).expand().simplify()"
   ]
  },
  {
   "cell_type": "code",
   "execution_count": null,
   "metadata": {},
   "outputs": [],
   "source": []
  },
  {
   "cell_type": "code",
   "execution_count": null,
   "metadata": {},
   "outputs": [],
   "source": []
  },
  {
   "cell_type": "code",
   "execution_count": null,
   "metadata": {},
   "outputs": [],
   "source": [
    "KXX1_ = integrate( SXX * exp(I * omega* tau) , (omega, -oo, oo) ) \n",
    "KXX1_"
   ]
  },
  {
   "cell_type": "code",
   "execution_count": null,
   "metadata": {},
   "outputs": [],
   "source": [
    "KXX1_ = integrate( 2*SXX * cos(omega* tau) , (omega, 0, oo) ) \n",
    "KXX1_"
   ]
  },
  {
   "cell_type": "code",
   "execution_count": null,
   "metadata": {},
   "outputs": [],
   "source": [
    "#KXX2_ = KXXint(SX)\n",
    "#KXX2_"
   ]
  },
  {
   "cell_type": "code",
   "execution_count": null,
   "metadata": {},
   "outputs": [],
   "source": []
  }
 ],
 "metadata": {
  "kernelspec": {
   "display_name": "Python 3 (ipykernel)",
   "language": "python",
   "name": "python3"
  },
  "language_info": {
   "codemirror_mode": {
    "name": "ipython",
    "version": 3
   },
   "file_extension": ".py",
   "mimetype": "text/x-python",
   "name": "python",
   "nbconvert_exporter": "python",
   "pygments_lexer": "ipython3",
   "version": "3.9.9"
  }
 },
 "nbformat": 4,
 "nbformat_minor": 2
}
